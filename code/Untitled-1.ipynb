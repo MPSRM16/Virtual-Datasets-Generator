{
 "cells": [
  {
   "cell_type": "code",
   "execution_count": 12,
   "metadata": {},
   "outputs": [
    {
     "name": "stderr",
     "output_type": "stream",
     "text": [
      "usage: ipykernel_launcher.py [-h] -r1 READ1 -r2 READ2 -l LENGTH -n NAME -s\n",
      "                             SIZE -sd STANDARD_DEVIATION -nr NUMBER_OF_READS\n",
      "                             -f FASTA\n",
      "ipykernel_launcher.py: error: the following arguments are required: -r1/--read1, -r2/--read2, -l/--length, -n/--name, -s/--size, -sd/--standard_deviation, -nr/--number_of_reads\n"
     ]
    },
    {
     "ename": "SystemExit",
     "evalue": "2",
     "output_type": "error",
     "traceback": [
      "An exception has occurred, use %tb to see the full traceback.\n",
      "\u001b[0;31mSystemExit\u001b[0m\u001b[0;31m:\u001b[0m 2\n"
     ]
    }
   ],
   "source": [
    "import argparse\n",
    "import subprocess\n",
    "def input_reciever():\n",
    "    parser = argparse.ArgumentParser(description='Simulation parameters')\n",
    "\n",
    "    parser.add_argument('-r1', '--read1', type=str, required=True, help='Path to the first read quality profile')\n",
    "    parser.add_argument('-r2', '--read2', type=str, required=True, help='Path to the second read quality profile')\n",
    "    parser.add_argument('-l', '--length', type=int, required=True, help='Length of reads to be simulated')\n",
    "    parser.add_argument('-n', '--name', type=str, required=True, help='Name of the output file')\n",
    "    parser.add_argument('-s', '--size', type=int, required=True, help='Mean size of the sample')\n",
    "    parser.add_argument('-sd', '--standard_deviation', type=float, required=True, help='Standard deviation of the sample')\n",
    "    parser.add_argument('-nr', '--number_of_reads', type=int, required=True, help='Number of reads to be simulated')\n",
    "    parser.add_argument('-f', '--fasta', type=str, required=True, help='Filename of input DNA/RNA reference')\n",
    "\n",
    "    args = parser.parse_args()\n",
    "\n",
    "    R1 = args.read1\n",
    "    R2 = args.read2\n",
    "    len_of_reads = args.length\n",
    "    name_of_file = args.name\n",
    "    size_of_sample = args.size\n",
    "    sd = args.standard_deviation\n",
    "    number_of_reads = args.number_of_reads\n",
    "    fasta_file = args.fasta\n",
    "    command = f\"art_illumina -1 {R1} -2 {R2} -l {len_of_reads} -p -o {name_of_file} -m {size_of_sample} -s {sd} -f {number_of_reads} -i {fasta_file}\"\n",
    "\n",
    "    process = subprocess.run(command, shell=True, check=True, stdout=subprocess.PIPE, stderr=subprocess.PIPE, text=True)\n",
    "\n",
    "    output = process.stdout\n",
    "    error = process.stderr\n",
    "\n",
    "    if process.returncode != 0:\n",
    "        print(f\"Error: {error}\")\n",
    "    else:\n",
    "        print(f\"Output: {output}\")\n",
    "\n",
    "if __name__ == \"__main__\":\n",
    "    input_reciever()\n"
   ]
  },
  {
   "cell_type": "code",
   "execution_count": 14,
   "metadata": {},
   "outputs": [
    {
     "data": {
      "text/plain": [
       "['example.ini']"
      ]
     },
     "execution_count": 14,
     "metadata": {},
     "output_type": "execute_result"
    }
   ],
   "source": [
    "import configparser\n",
    "ini= configparser.ConfigParser()\n",
    "ini.read('example.ini')\n"
   ]
  },
  {
   "cell_type": "code",
   "execution_count": 16,
   "metadata": {},
   "outputs": [
    {
     "data": {
      "text/plain": [
       "'\"R1_R2/nextseq550metaR2.txt\"'"
      ]
     },
     "execution_count": 16,
     "metadata": {},
     "output_type": "execute_result"
    }
   ],
   "source": [
    "\n",
    "ini[\"fixed_arguemnts\"][\"R1\"]"
   ]
  },
  {
   "cell_type": "markdown",
   "metadata": {},
   "source": [
    "### Pandas basics"
   ]
  },
  {
   "cell_type": "code",
   "execution_count": 3,
   "metadata": {},
   "outputs": [
    {
     "data": {
      "text/plain": [
       "Index(['col1', 'col2'], dtype='object')"
      ]
     },
     "execution_count": 3,
     "metadata": {},
     "output_type": "execute_result"
    }
   ],
   "source": [
    "import pandas as pd \n",
    "\n",
    "# create test data set\n",
    "\n",
    "my_df= pd.DataFrame([\n",
    "    [1,2],\n",
    "    [3,4],\n",
    "    [5,6]\n",
    "],columns=['col1', 'col2'])\n",
    "\n",
    "my_df.head()\n",
    "my_df.describe()\n",
    "my_df.columns\n"
   ]
  },
  {
   "cell_type": "code",
   "execution_count": 13,
   "metadata": {},
   "outputs": [
    {
     "data": {
      "text/plain": [
       "0     True\n",
       "1    False\n",
       "2    False\n",
       "Name: col1, dtype: bool"
      ]
     },
     "execution_count": 13,
     "metadata": {},
     "output_type": "execute_result"
    }
   ],
   "source": [
    "# series to bool\n",
    "my_df.col1 == 1"
   ]
  },
  {
   "cell_type": "code",
   "execution_count": 18,
   "metadata": {},
   "outputs": [
    {
     "data": {
      "text/html": [
       "<div>\n",
       "<style scoped>\n",
       "    .dataframe tbody tr th:only-of-type {\n",
       "        vertical-align: middle;\n",
       "    }\n",
       "\n",
       "    .dataframe tbody tr th {\n",
       "        vertical-align: top;\n",
       "    }\n",
       "\n",
       "    .dataframe thead th {\n",
       "        text-align: right;\n",
       "    }\n",
       "</style>\n",
       "<table border=\"1\" class=\"dataframe\">\n",
       "  <thead>\n",
       "    <tr style=\"text-align: right;\">\n",
       "      <th></th>\n",
       "      <th>col1</th>\n",
       "      <th>col2</th>\n",
       "    </tr>\n",
       "  </thead>\n",
       "  <tbody>\n",
       "    <tr>\n",
       "      <th>0</th>\n",
       "      <td>1</td>\n",
       "      <td>2</td>\n",
       "    </tr>\n",
       "  </tbody>\n",
       "</table>\n",
       "</div>"
      ],
      "text/plain": [
       "   col1  col2\n",
       "0     1     2"
      ]
     },
     "execution_count": 18,
     "metadata": {},
     "output_type": "execute_result"
    }
   ],
   "source": [
    "## subset\n",
    "\n",
    "my_df[my_df.col1 == 1]\n",
    "\n",
    "my_df[(my_df.col1 == 1) | (my_df.col2 == 2)] # OR\n",
    "\n",
    "my_df[(my_df.col1 == 1) & (my_df.col2 == 2)] # AND\n",
    "\n"
   ]
  },
  {
   "cell_type": "code",
   "execution_count": 21,
   "metadata": {},
   "outputs": [],
   "source": [
    "## write to csv\n",
    "my_df.to_csv('my_df.csv', index=False) # default sep is ','\n",
    "\n",
    "## write to tsv\n",
    "my_df.to_csv('my_df.tsv', sep='\\t', index=False) # default"
   ]
  },
  {
   "cell_type": "code",
   "execution_count": 25,
   "metadata": {},
   "outputs": [
    {
     "data": {
      "text/html": [
       "<div>\n",
       "<style scoped>\n",
       "    .dataframe tbody tr th:only-of-type {\n",
       "        vertical-align: middle;\n",
       "    }\n",
       "\n",
       "    .dataframe tbody tr th {\n",
       "        vertical-align: top;\n",
       "    }\n",
       "\n",
       "    .dataframe thead th {\n",
       "        text-align: right;\n",
       "    }\n",
       "</style>\n",
       "<table border=\"1\" class=\"dataframe\">\n",
       "  <thead>\n",
       "    <tr style=\"text-align: right;\">\n",
       "      <th></th>\n",
       "      <th>col1</th>\n",
       "      <th>col2</th>\n",
       "    </tr>\n",
       "  </thead>\n",
       "  <tbody>\n",
       "    <tr>\n",
       "      <th>0</th>\n",
       "      <td>1</td>\n",
       "      <td>2</td>\n",
       "    </tr>\n",
       "    <tr>\n",
       "      <th>1</th>\n",
       "      <td>3</td>\n",
       "      <td>4</td>\n",
       "    </tr>\n",
       "    <tr>\n",
       "      <th>2</th>\n",
       "      <td>5</td>\n",
       "      <td>6</td>\n",
       "    </tr>\n",
       "  </tbody>\n",
       "</table>\n",
       "</div>"
      ],
      "text/plain": [
       "   col1  col2\n",
       "0     1     2\n",
       "1     3     4\n",
       "2     5     6"
      ]
     },
     "execution_count": 25,
     "metadata": {},
     "output_type": "execute_result"
    }
   ],
   "source": [
    "## read from csv\n",
    "\n",
    "pd.read_csv('my_df.csv')\n",
    "\n",
    "## read from tsv\n",
    "\n",
    "pd.read_csv('my_df.tsv', sep='\\t')"
   ]
  },
  {
   "cell_type": "code",
   "execution_count": 1,
   "metadata": {},
   "outputs": [
    {
     "ename": "NameError",
     "evalue": "name 'my_df' is not defined",
     "output_type": "error",
     "traceback": [
      "\u001b[0;31m---------------------------------------------------------------------------\u001b[0m",
      "\u001b[0;31mNameError\u001b[0m                                 Traceback (most recent call last)",
      "Cell \u001b[0;32mIn[1], line 3\u001b[0m\n\u001b[1;32m      1\u001b[0m \u001b[38;5;66;03m## iterate rows\u001b[39;00m\n\u001b[0;32m----> 3\u001b[0m \u001b[38;5;28;01mfor\u001b[39;00m index, row \u001b[38;5;129;01min\u001b[39;00m \u001b[43mmy_df\u001b[49m\u001b[38;5;241m.\u001b[39miterrows():\n\u001b[1;32m      4\u001b[0m     \u001b[38;5;28mprint\u001b[39m(row)\n\u001b[1;32m      5\u001b[0m     \u001b[38;5;28mprint\u001b[39m(row\u001b[38;5;241m.\u001b[39mcol1)\n",
      "\u001b[0;31mNameError\u001b[0m: name 'my_df' is not defined"
     ]
    }
   ],
   "source": [
    "## iterate rows\n",
    "\n",
    "for index, row in my_df.iterrows():\n",
    "    print(row)\n",
    "    print(row.col1)"
   ]
  },
  {
   "cell_type": "code",
   "execution_count": 3,
   "metadata": {},
   "outputs": [],
   "source": [
    "## \n",
    "import pandas as pd\n",
    "\n",
    "my_test_df= pd.DataFrame(\n",
    "    [\n",
    "        [1, \"/mnt/c/Users/MPSRM/Documents/estagio_INSA/fastas/GCA_009858895.3_ASM985889v3_genomic.fasta\"]\n",
    "    ],\n",
    "    columns= [\"proportion\", \"filepath\"]\n",
    ")\n",
    "my_test_df.to_csv(\"test_filepath.tsv\", sep= \"\\t\", index= False, header= True)\n"
   ]
  },
  {
   "cell_type": "code",
   "execution_count": null,
   "metadata": {},
   "outputs": [],
   "source": [
    "config_df= pd.read_csv(\"Livro1.csv\", sep= \";\")\n",
    "config_df.head()"
   ]
  },
  {
   "cell_type": "code",
   "execution_count": 1,
   "metadata": {},
   "outputs": [
    {
     "name": "stdout",
     "output_type": "stream",
     "text": [
      "output/intermedios\n"
     ]
    }
   ],
   "source": [
    "# creating dirs\n",
    "\n",
    "import os\n",
    "\n",
    "\n",
    "my_output_directory= \"output\"\n",
    "\n",
    "intermediate_dirname= \"intermedios\"\n",
    "intermediate_dirpath= os.path.join(\n",
    "    my_output_directory, intermediate_dirname\n",
    ")\n",
    "\n",
    "print(\n",
    "    intermediate_dirpath\n",
    ")"
   ]
  },
  {
   "cell_type": "code",
   "execution_count": 4,
   "metadata": {},
   "outputs": [
    {
     "name": "stdout",
     "output_type": "stream",
     "text": [
      "hello\n",
      "again\n"
     ]
    },
    {
     "data": {
      "text/plain": [
       "0"
      ]
     },
     "execution_count": 4,
     "metadata": {},
     "output_type": "execute_result"
    }
   ],
   "source": [
    "os.system(\"cat /mnt/c/Users/MPSRM/Documents/estagio_INSA/test*txt\")"
   ]
  }
 ],
 "metadata": {
  "kernelspec": {
   "display_name": ".venv",
   "language": "python",
   "name": "python3"
  },
  "language_info": {
   "codemirror_mode": {
    "name": "ipython",
    "version": 3
   },
   "file_extension": ".py",
   "mimetype": "text/x-python",
   "name": "python",
   "nbconvert_exporter": "python",
   "pygments_lexer": "ipython3",
   "version": "3.11.5"
  }
 },
 "nbformat": 4,
 "nbformat_minor": 2
}
